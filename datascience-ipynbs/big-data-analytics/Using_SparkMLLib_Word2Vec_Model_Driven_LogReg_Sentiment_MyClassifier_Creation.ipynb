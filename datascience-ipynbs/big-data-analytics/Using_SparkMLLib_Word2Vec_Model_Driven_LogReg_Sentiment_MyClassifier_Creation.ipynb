{
 "cells": [
  {
   "cell_type": "code",
   "execution_count": 1,
   "metadata": {},
   "outputs": [],
   "source": [
    "import findspark\n",
    "findspark.init('/Users/sofia/spark')\n",
    "\n",
    "from pyspark.sql import SparkSession\n",
    "from pyspark.ml.feature import Tokenizer,StopWordsRemover,Word2Vec,StringIndexer\n",
    "from pyspark.ml import Pipeline\n",
    "from pyspark.ml.classification import LogisticRegression\n",
    "from pyspark.ml.evaluation import BinaryClassificationEvaluator\n",
    "\n",
    "from pyspark.sql.functions import udf\n",
    "from pyspark.sql.types import *\n",
    "\n",
    "import re\n",
    "import shutil"
   ]
  },
  {
   "cell_type": "markdown",
   "metadata": {},
   "source": [
    "**Load Data To Spark DataFrame**"
   ]
  },
  {
   "cell_type": "code",
   "execution_count": 2,
   "metadata": {},
   "outputs": [
    {
     "name": "stdout",
     "output_type": "stream",
     "text": [
      "Archive file unpacked successfully.\n",
      "Total Number of records in df :  1600000\n",
      "Total Number of records in df after deleting duplicate and null records :  1600000\n"
     ]
    }
   ],
   "source": [
    "spark = SparkSession.builder.appName('SentimentClassifierCreationWithSparkML').getOrCreate()\n",
    "\n",
    "'''\n",
    "Unpacking Archive data file \n",
    "'''\n",
    "shutil.unpack_archive('datasets/training.1600000.processed.noemoticon.csv.tar.gz', 'datasets')\n",
    "print('Archive file unpacked successfully.')\n",
    "\n",
    "df = spark.read.csv('datasets/training.1600000.processed.noemoticon.csv',inferSchema=True)\n",
    "\n",
    "print('Total Number of records in df : ',df.count())\n",
    "df = df.dropna()\n",
    "df = df.dropDuplicates()\n",
    "print('Total Number of records in df after deleting duplicate and null records : ',df.count())"
   ]
  },
  {
   "cell_type": "code",
   "execution_count": 3,
   "metadata": {},
   "outputs": [
    {
     "name": "stdout",
     "output_type": "stream",
     "text": [
      "+---+----------+--------------------+--------+---------------+--------------------+\n",
      "|_c0|       _c1|                 _c2|     _c3|            _c4|                 _c5|\n",
      "+---+----------+--------------------+--------+---------------+--------------------+\n",
      "|  0|2039777308|Thu Jun 04 22:46:...|NO_QUERY|        Abby_ox|  I want Miley to...|\n",
      "|  0|1994140600|Mon Jun 01 11:28:...|NO_QUERY|     chillbabe7|            Exams!!!|\n",
      "|  0|1676989809|Sat May 02 00:00:...|NO_QUERY|sarahgrieve2011| I wanna go home....|\n",
      "|  0|1986022894|Sun May 31 18:12:...|NO_QUERY|       sambam87| I will not watch...|\n",
      "|  0|1694344813|Mon May 04 02:11:...|NO_QUERY|     LeoVonRink|        No Followers|\n",
      "+---+----------+--------------------+--------+---------------+--------------------+\n",
      "only showing top 5 rows\n",
      "\n"
     ]
    }
   ],
   "source": [
    "df.show(5)"
   ]
  },
  {
   "cell_type": "code",
   "execution_count": 4,
   "metadata": {},
   "outputs": [
    {
     "name": "stdout",
     "output_type": "stream",
     "text": [
      "+--------------------+---------+\n",
      "|                text|sentiment|\n",
      "+--------------------+---------+\n",
      "|  I want Miley to...|        0|\n",
      "|            Exams!!!|        0|\n",
      "| I wanna go home....|        0|\n",
      "| I will not watch...|        0|\n",
      "|        No Followers|        0|\n",
      "+--------------------+---------+\n",
      "only showing top 5 rows\n",
      "\n"
     ]
    }
   ],
   "source": [
    "df = df.withColumnRenamed('_c0','sentiment').withColumnRenamed('_c5','text')\n",
    "df.select('text','sentiment').show(5)"
   ]
  },
  {
   "cell_type": "markdown",
   "metadata": {},
   "source": [
    "#### Clean and Prepare the Data"
   ]
  },
  {
   "cell_type": "code",
   "execution_count": 5,
   "metadata": {},
   "outputs": [],
   "source": [
    "def removePattern(inputText, pattern):\n",
    "    r = re.findall(pattern, inputText)\n",
    "    for i in r:\n",
    "        inputText = re.sub(i, '', inputText)        \n",
    "    return inputText\n",
    "\n",
    "def cleanTweet(txt):\n",
    "    '''\n",
    "    Remove Twitter Return Handles (RT @xxx:)\n",
    "    '''\n",
    "    txt = removePattern(txt, 'RT @[\\w]*:')\n",
    "    '''\n",
    "    Remove Twitter Handles (@xxx)\n",
    "    '''\n",
    "    txt = removePattern(txt, '@[\\w]*')\n",
    "    '''\n",
    "    Remove URL Links (httpxxx)\n",
    "    '''\n",
    "    txt = removePattern(txt, 'https?://[A-Za-z0-9./]*')\n",
    "    '''\n",
    "    Remove Special Characters, Numbers and Punctuations\n",
    "    '''\n",
    "    txt = re.sub('[^A-Za-z]+', ' ', txt)\n",
    "    return txt"
   ]
  },
  {
   "cell_type": "code",
   "execution_count": 6,
   "metadata": {},
   "outputs": [
    {
     "name": "stdout",
     "output_type": "stream",
     "text": [
      "+---------+----------+--------------------+--------+---------------+--------------------+--------------------+\n",
      "|sentiment|       _c1|                 _c2|     _c3|            _c4|                text|      cleanTweetText|\n",
      "+---------+----------+--------------------+--------+---------------+--------------------+--------------------+\n",
      "|        0|2039777308|Thu Jun 04 22:46:...|NO_QUERY|        Abby_ox|  I want Miley to...| I want Miley to ...|\n",
      "|        0|1994140600|Mon Jun 01 11:28:...|NO_QUERY|     chillbabe7|            Exams!!!|              Exams |\n",
      "|        0|1676989809|Sat May 02 00:00:...|NO_QUERY|sarahgrieve2011| I wanna go home....| I wanna go home ...|\n",
      "|        0|1986022894|Sun May 31 18:12:...|NO_QUERY|       sambam87| I will not watch...| I will not watch...|\n",
      "|        0|1694344813|Mon May 04 02:11:...|NO_QUERY|     LeoVonRink|        No Followers|        No Followers|\n",
      "+---------+----------+--------------------+--------+---------------+--------------------+--------------------+\n",
      "only showing top 5 rows\n",
      "\n"
     ]
    }
   ],
   "source": [
    "udfCleanTweet = udf(cleanTweet, StringType())\n",
    "df=df.withColumn('cleanTweetText', udfCleanTweet('text'))\n",
    "df.show(5)"
   ]
  },
  {
   "cell_type": "code",
   "execution_count": 7,
   "metadata": {},
   "outputs": [
    {
     "name": "stdout",
     "output_type": "stream",
     "text": [
      "+---------+\n",
      "|sentiment|\n",
      "+---------+\n",
      "|        4|\n",
      "|        0|\n",
      "+---------+\n",
      "\n"
     ]
    }
   ],
   "source": [
    "df.select('sentiment').distinct().show()"
   ]
  },
  {
   "cell_type": "code",
   "execution_count": 8,
   "metadata": {},
   "outputs": [
    {
     "name": "stdout",
     "output_type": "stream",
     "text": [
      "+---------+------+\n",
      "|sentiment| count|\n",
      "+---------+------+\n",
      "|        4|800000|\n",
      "|        0|800000|\n",
      "+---------+------+\n",
      "\n"
     ]
    }
   ],
   "source": [
    "df.groupby('sentiment').count().show()"
   ]
  },
  {
   "cell_type": "code",
   "execution_count": 9,
   "metadata": {},
   "outputs": [],
   "source": [
    "def mapTarget(sentiment):\n",
    "    return 1 if sentiment == 4 else sentiment"
   ]
  },
  {
   "cell_type": "code",
   "execution_count": 10,
   "metadata": {},
   "outputs": [
    {
     "name": "stdout",
     "output_type": "stream",
     "text": [
      "+---------+----------+--------------------+--------+---------------+--------------------+--------------------+------+\n",
      "|sentiment|       _c1|                 _c2|     _c3|            _c4|                text|      cleanTweetText|target|\n",
      "+---------+----------+--------------------+--------+---------------+--------------------+--------------------+------+\n",
      "|        0|2039777308|Thu Jun 04 22:46:...|NO_QUERY|        Abby_ox|  I want Miley to...| I want Miley to ...|     0|\n",
      "|        0|1994140600|Mon Jun 01 11:28:...|NO_QUERY|     chillbabe7|            Exams!!!|              Exams |     0|\n",
      "|        0|1676989809|Sat May 02 00:00:...|NO_QUERY|sarahgrieve2011| I wanna go home....| I wanna go home ...|     0|\n",
      "|        0|1986022894|Sun May 31 18:12:...|NO_QUERY|       sambam87| I will not watch...| I will not watch...|     0|\n",
      "|        0|1694344813|Mon May 04 02:11:...|NO_QUERY|     LeoVonRink|        No Followers|        No Followers|     0|\n",
      "+---------+----------+--------------------+--------+---------------+--------------------+--------------------+------+\n",
      "only showing top 5 rows\n",
      "\n"
     ]
    }
   ],
   "source": [
    "udfMapTarget = udf(mapTarget, IntegerType())\n",
    "df = df.withColumn('target', udfMapTarget('sentiment'))\n",
    "df.show(5)"
   ]
  },
  {
   "cell_type": "code",
   "execution_count": 11,
   "metadata": {},
   "outputs": [
    {
     "name": "stdout",
     "output_type": "stream",
     "text": [
      "+------+------+\n",
      "|target| count|\n",
      "+------+------+\n",
      "|     1|800000|\n",
      "|     0|800000|\n",
      "+------+------+\n",
      "\n"
     ]
    }
   ],
   "source": [
    "df.groupby('target').count().show()"
   ]
  },
  {
   "cell_type": "code",
   "execution_count": 12,
   "metadata": {},
   "outputs": [
    {
     "name": "stdout",
     "output_type": "stream",
     "text": [
      "+--------------------+--------------------+------+\n",
      "|                text|      cleanTweetText|target|\n",
      "+--------------------+--------------------+------+\n",
      "|  I want Miley to...| I want Miley to ...|     0|\n",
      "|            Exams!!!|              Exams |     0|\n",
      "| I wanna go home....| I wanna go home ...|     0|\n",
      "| I will not watch...| I will not watch...|     0|\n",
      "|        No Followers|        No Followers|     0|\n",
      "+--------------------+--------------------+------+\n",
      "only showing top 5 rows\n",
      "\n"
     ]
    }
   ],
   "source": [
    "df=df.select('text','cleanTweetText','target')\n",
    "df.show(5)"
   ]
  },
  {
   "cell_type": "markdown",
   "metadata": {},
   "source": [
    "**Train Test Split**"
   ]
  },
  {
   "cell_type": "code",
   "execution_count": 13,
   "metadata": {},
   "outputs": [],
   "source": [
    "dfTrain,dfTest = df.randomSplit([0.8,0.2])"
   ]
  },
  {
   "cell_type": "markdown",
   "metadata": {},
   "source": [
    "**Feature Transformations**"
   ]
  },
  {
   "cell_type": "code",
   "execution_count": 14,
   "metadata": {},
   "outputs": [],
   "source": [
    "tokenizer = Tokenizer(inputCol='cleanTweetText', outputCol='tokenTweet')\n",
    "stopRemover = StopWordsRemover(inputCol='tokenTweet',outputCol='filteredTokens')\n",
    "word2Vec = Word2Vec(vectorSize=100, minCount=5, inputCol='filteredTokens', outputCol='features')\n",
    "labelStringIdx = StringIndexer(inputCol = 'target', outputCol = 'label')"
   ]
  },
  {
   "cell_type": "markdown",
   "metadata": {},
   "source": [
    "**Create the Model**"
   ]
  },
  {
   "cell_type": "code",
   "execution_count": 15,
   "metadata": {},
   "outputs": [],
   "source": [
    "lr = LogisticRegression(maxIter=100)"
   ]
  },
  {
   "cell_type": "markdown",
   "metadata": {},
   "source": [
    "**Create the Pipeline**"
   ]
  },
  {
   "cell_type": "code",
   "execution_count": 16,
   "metadata": {},
   "outputs": [],
   "source": [
    "dfPrepPipe = Pipeline(stages=[tokenizer,stopRemover,word2Vec,labelStringIdx,lr])"
   ]
  },
  {
   "cell_type": "markdown",
   "metadata": {},
   "source": [
    "**Training and Evaluation**"
   ]
  },
  {
   "cell_type": "code",
   "execution_count": 17,
   "metadata": {},
   "outputs": [],
   "source": [
    "pipelineFit = dfPrepPipe.fit(dfTrain)"
   ]
  },
  {
   "cell_type": "code",
   "execution_count": 18,
   "metadata": {},
   "outputs": [],
   "source": [
    "predictions = pipelineFit.transform(dfTest)"
   ]
  },
  {
   "cell_type": "code",
   "execution_count": 19,
   "metadata": {},
   "outputs": [
    {
     "name": "stdout",
     "output_type": "stream",
     "text": [
      "root\n",
      " |-- text: string (nullable = true)\n",
      " |-- cleanTweetText: string (nullable = true)\n",
      " |-- target: integer (nullable = true)\n",
      " |-- tokenTweet: array (nullable = true)\n",
      " |    |-- element: string (containsNull = true)\n",
      " |-- filteredTokens: array (nullable = true)\n",
      " |    |-- element: string (containsNull = true)\n",
      " |-- features: vector (nullable = true)\n",
      " |-- label: double (nullable = false)\n",
      " |-- rawPrediction: vector (nullable = true)\n",
      " |-- probability: vector (nullable = true)\n",
      " |-- prediction: double (nullable = false)\n",
      "\n"
     ]
    }
   ],
   "source": [
    "predictions.printSchema()"
   ]
  },
  {
   "cell_type": "code",
   "execution_count": 20,
   "metadata": {},
   "outputs": [
    {
     "name": "stdout",
     "output_type": "stream",
     "text": [
      "+--------------------+--------------------+-----+--------------------+--------------------+----------+\n",
      "|      cleanTweetText|            features|label|       rawPrediction|         probability|prediction|\n",
      "+--------------------+--------------------+-----+--------------------+--------------------+----------+\n",
      "| I want Miley to ...|[0.01353734713047...|  0.0|[0.59144533590323...|[0.64369670410457...|       0.0|\n",
      "|        love you lt |[-0.0808262992650...|  1.0|[-2.8843092921010...|[0.05293468369937...|       1.0|\n",
      "|      Hello Twitter |[0.08169510029256...|  1.0|[-2.8707641781935...|[0.05361786209311...|       1.0|\n",
      "| I wanna go home ...|[-0.0382282886033...|  0.0|[2.43213292335975...|[0.91924500906395...|       0.0|\n",
      "|        No Followers|[0.16656325850635...|  0.0|[-2.9296898778204...|[0.05070525034315...|       1.0|\n",
      "+--------------------+--------------------+-----+--------------------+--------------------+----------+\n",
      "only showing top 5 rows\n",
      "\n"
     ]
    }
   ],
   "source": [
    "predictions.select(['cleanTweetText','features','label','rawPrediction','probability','prediction']).show(5)"
   ]
  },
  {
   "cell_type": "code",
   "execution_count": 21,
   "metadata": {},
   "outputs": [
    {
     "name": "stdout",
     "output_type": "stream",
     "text": [
      "ROC-Accuracy of model at predicting sentiment is: 0.8276\n"
     ]
    }
   ],
   "source": [
    "evaluator = BinaryClassificationEvaluator()\n",
    "roc_accuracy=evaluator.evaluate(predictions)\n",
    "print('ROC-Accuracy of model at predicting sentiment is: {:.4f}'.format(roc_accuracy))"
   ]
  },
  {
   "cell_type": "code",
   "execution_count": 22,
   "metadata": {},
   "outputs": [
    {
     "name": "stdout",
     "output_type": "stream",
     "text": [
      "Accuracy of model at predicting sentiment is: 0.7479\n"
     ]
    }
   ],
   "source": [
    "numberOfTestRecord = dfTest.agg({'target':'count'}).collect()[0]['count(target)']\n",
    "accuracy = predictions.filter(predictions['label'] == predictions['prediction']).count()/numberOfTestRecord\n",
    "print('Accuracy of model at predicting sentiment is: {:.4f}'.format(accuracy))"
   ]
  },
  {
   "cell_type": "markdown",
   "metadata": {},
   "source": [
    "**Save the trained model**"
   ]
  },
  {
   "cell_type": "code",
   "execution_count": 23,
   "metadata": {},
   "outputs": [],
   "source": [
    "pipelineFit.save('W2VLogreg.model')"
   ]
  }
 ],
 "metadata": {
  "kernelspec": {
   "display_name": "Python 3",
   "language": "python",
   "name": "python3"
  },
  "language_info": {
   "codemirror_mode": {
    "name": "ipython",
    "version": 3
   },
   "file_extension": ".py",
   "mimetype": "text/x-python",
   "name": "python",
   "nbconvert_exporter": "python",
   "pygments_lexer": "ipython3",
   "version": "3.7.3"
  }
 },
 "nbformat": 4,
 "nbformat_minor": 2
}
